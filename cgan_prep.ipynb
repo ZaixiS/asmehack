{
 "metadata": {
  "language_info": {
   "codemirror_mode": {
    "name": "ipython",
    "version": 3
   },
   "file_extension": ".py",
   "mimetype": "text/x-python",
   "name": "python",
   "nbconvert_exporter": "python",
   "pygments_lexer": "ipython3",
   "version": "3.8.3-final"
  },
  "orig_nbformat": 2,
  "kernelspec": {
   "name": "python_defaultSpec_1597563386099",
   "display_name": "Python 3.8.3 64-bit"
  }
 },
 "nbformat": 4,
 "nbformat_minor": 2,
 "cells": [
  {
   "cell_type": "code",
   "execution_count": null,
   "metadata": {},
   "outputs": [],
   "source": [
    "from skimage import io\n",
    "import pandas as pd\n",
    "import numpy as np\n",
    "import os\n",
    "import random"
   ]
  },
  {
   "cell_type": "code",
   "execution_count": null,
   "metadata": {},
   "outputs": [],
   "source": [
    "# generate labels for conditional GAN\n",
    "def cgan(folder='cgan',home='problem2',resize=1.0,decay=0.005,interval=100,\n",
    "         formatting=['d_0','power_0','speed_0',\n",
    "                 'd_1','power_1','speed_1',\n",
    "                 'd_2','power_2','speed_2',\n",
    "                 'd_3','power_3','speed_3',\n",
    "                 'd_4','power_4','speed_4',\n",
    "                 'd_5','power_5','speed_5']):\n",
    "    # create directory\n",
    "    if not os.path.exists('./%s'%(folder)):os.mkdir('./%s'%(folder))\n",
    "    df=[]\n",
    "    for num in range(1,251):\n",
    "        print('Layer: %d'%(num))\n",
    "        layer='L%04d'%(num)\n",
    "        cmd=pd.read_csv('./%s/Command_Part1/XYPT_Part01_%s.csv'%(home,layer),header=None)\n",
    "        left=cmd[0].min()\n",
    "        right=cmd[0].max()\n",
    "        down=cmd[1].min()\n",
    "        up=cmd[1].max()\n",
    "        mag=1000\n",
    "        points={}\n",
    "        locations={}\n",
    "        current_order=0\n",
    "        first_row=cmd[0:1]\n",
    "        history_x=[first_row[0][0]]*3\n",
    "        history_y=[first_row[1][0]]*3\n",
    "        speed_max=-10000\n",
    "        speed_min=10000\n",
    "        power_max=-10000\n",
    "        power_min=10000\n",
    "        for line in cmd.iterrows():\n",
    "            x=line[1][0]\n",
    "            y=line[1][1]\n",
    "            power=line[1][2]\n",
    "            history_x.pop()\n",
    "            history_x.insert(0,x)\n",
    "            history_y.pop()\n",
    "            history_y.insert(0,y)\n",
    "            speed=((history_x[2]-history_x[0])*(history_x[2]-history_x[0])+(history_y[2]-history_y[0])*(history_y[2]-history_y[0]))**0.5/2e-5\n",
    "            speed_max=max(speed,speed_max)\n",
    "            speed_min=min(speed,speed_min)\n",
    "            power_max=max(power,power_max)\n",
    "            power_min=min(power,power_min)\n",
    "            points[current_order]={'x':int((x-left)*mag),'y':int((y-down)*mag),'power':power,'speed':speed}\n",
    "            if line[1][3]==2: locations[len(locations)+1]=current_order\n",
    "            current_order+=1\n",
    "        for temp in locations:\n",
    "            if temp%100==0: print(temp,end='\\t')\n",
    "            row=['./%s/MPM/Layer%03dto%03d/%s/frame_%04d.bmp'%(home,(num-1)//50*50+1,(num-1)//50*50+50,layer,temp)]\n",
    "            center=points[locations[temp]]\n",
    "            for data_point in formatting:\n",
    "                col,idx=data_point.split('_')\n",
    "                current_idx=locations[temp]-int(idx)*interval\n",
    "                if current_idx not in points: continue\n",
    "                current=points[current_idx]\n",
    "                if col=='x':\n",
    "                    value=(current['x']-center['x'])*resize/mag\n",
    "                elif col=='y':\n",
    "                    value=(current['y']-center['y'])*resize/mag\n",
    "                elif col=='d':\n",
    "                    value=((current['x']-center['x'])*(current['x']-center['x'])+(current['y']-center['y'])*(current['y']-center['y']))**0.5*resize/mag\n",
    "                elif col=='power':\n",
    "                    value=(current['power']-power_min)/(power_max-power_min)*np.exp(-int(idx)*interval*decay)\n",
    "                elif col=='speed':\n",
    "                    value=(current['speed']-speed_min)/(speed_max-speed_min)\n",
    "                row.append(value)\n",
    "            df.append(row)\n",
    "        print('Done')\n",
    "    pd.DataFrame(df,columns=['path']+formatting).to_csv('./%s/vec.csv'%(folder),index=0)"
   ]
  },
  {
   "cell_type": "code",
   "execution_count": null,
   "metadata": {
    "tags": [
     "outputPrepend"
    ]
   },
   "outputs": [],
   "source": [
    "cgan()"
   ]
  }
 ]
}