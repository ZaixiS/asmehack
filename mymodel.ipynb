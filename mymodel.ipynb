{
  "cells": [
    {
      "cell_type": "code",
      "execution_count": 2,
      "metadata": {
        "collapsed": false
      },
      "outputs": [],
      "source": [
        "%matplotlib inline"
      ]
    },
    {
      "cell_type": "markdown",
      "metadata": {},
      "source": [
        "\nTransfer Learning for Computer Vision Tutorial\n==============================================\n**Author**: `Sasank Chilamkurthy <https://chsasank.github.io>`_\n\nIn this tutorial, you will learn how to train a convolutional neural network for\nimage classification using transfer learning. You can read more about the transfer\nlearning at `cs231n notes <https://cs231n.github.io/transfer-learning/>`__\n\nQuoting these notes,\n\n    In practice, very few people train an entire Convolutional Network\n    from scratch (with random initialization), because it is relatively\n    rare to have a dataset of sufficient size. Instead, it is common to\n    pretrain a ConvNet on a very large dataset (e.g. ImageNet, which\n    contains 1.2 million images with 1000 categories), and then use the\n    ConvNet either as an initialization or a fixed feature extractor for\n    the task of interest.\n\nThese two major transfer learning scenarios look as follows:\n\n-  **Finetuning the convnet**: Instead of random initializaion, we\n   initialize the network with a pretrained network, like the one that is\n   trained on imagenet 1000 dataset. Rest of the training looks as\n   usual.\n-  **ConvNet as fixed feature extractor**: Here, we will freeze the weights\n   for all of the network except that of the final fully connected\n   layer. This last fully connected layer is replaced with a new one\n   with random weights and only this layer is trained.\n\n\n"
      ]
    },
    {
      "cell_type": "code",
      "execution_count": 3,
      "metadata": {
        "collapsed": false
      },
      "outputs": [],
      "source": [
        "# License: BSD\n",
        "# Author: Sasank Chilamkurthy\n",
        "\n",
        "from __future__ import print_function, division\n",
        "\n",
        "import torch\n",
        "import torch.nn as nn\n",
        "import torch.optim as optim\n",
        "from torch.optim import lr_scheduler\n",
        "import numpy as np\n",
        "import torchvision\n",
        "from torchvision import datasets, models, transforms\n",
        "import matplotlib.pyplot as plt\n",
        "import time\n",
        "import os\n",
        "from skimage import io, transform\n",
        "\n",
        "import copy\n",
        "import os.path\n",
        "import glob\n",
        "from torch.utils.data import Dataset, DataLoader\n",
        "import pandas as pd\n",
        "plt.ion()   # interactive mode"
      ]
    },
    {
      "cell_type": "markdown",
      "metadata": {},
      "source": [
        "Load Data\n---------\n\nWe will use torchvision and torch.utils.data packages for loading the\ndata.\n\nThe problem we're going to solve today is to train a model to classify\n**ants** and **bees**. We have about 120 training images each for ants and bees.\nThere are 75 validation images for each class. Usually, this is a very\nsmall dataset to generalize upon, if trained from scratch. Since we\nare using transfer learning, we should be able to generalize reasonably\nwell.\n\nThis dataset is a very small subset of imagenet.\n\n.. Note ::\n   Download the data from\n   `here <https://download.pytorch.org/tutorial/hymenoptera_data.zip>`_\n   and extract it to the current directory.\n\n"
      ]
    },
    {
      "cell_type": "code",
      "execution_count": 9,
      "metadata": {},
      "outputs": [],
      "source": [
        "# Writing a custermized dataset for my data\n",
        "class CommendDataset(Dataset):\n",
        "    \"\"\"Face Landmarks dataset.\"\"\"\n",
        "\n",
        "    def __init__(self, root_dir = './photo_crop/', label_dir = './labels/', transform=None):\n",
        "        \"\"\"\n",
        "        Args:\n",
        "            csv_file (string): Path to the csv file with annotations.\n",
        "            root_dir (string): Directory with all the images.\n",
        "            transform (callable, optional): Optional transform to be applied\n",
        "                on a sample.\n",
        "        \"\"\"\n",
        "        self.root_dir = root_dir\n",
        "        self.transform = transform\n",
        "        self.num_image = glob.glob(os.path.join(root_dir,'*.png'))\n",
        "        self.df_label = pd.read_csv(os.path.join(label_dir,'MPM_Layer0013.csv'))\n",
        "    def __len__(self):\n",
        "        return len(self.num_image)\n",
        "\n",
        "    def __getitem__(self, idx):\n",
        "        if torch.is_tensor(idx):\n",
        "            idx = idx.tolist()\n",
        "\n",
        "        img_name = os.path.join(self.root_dir,\n",
        "                                str(idx+1)+'.png')\n",
        "        image = io.imread(img_name)\n",
        "        \n",
        "        if self.transform:\n",
        "            image = self.transform(image)\n",
        "        lab = self.df_label.iloc[idx]['label']\n",
        "        return image,lab"
      ]
    },
    {
      "cell_type": "code",
      "execution_count": 12,
      "metadata": {
        "collapsed": false
      },
      "outputs": [],
      "source": [
        "# Data augmentation and normalization for training\n",
        "# Just normalization for validation\n",
        "# data_transforms = {\n",
        "#     'train': transforms.Compose([\n",
        "#         transforms.RandomResizedCrop(224),\n",
        "#         transforms.RandomHorizontalFlip(),\n",
        "#         transforms.ToTensor(),\n",
        "#         transforms.Normalize([0.485, 0.456, 0.406], [0.229, 0.224, 0.225])\n",
        "#     ]),\n",
        "#     'val': transforms.Compose([\n",
        "#         transforms.Resize(256),\n",
        "#         transforms.CenterCrop(224),\n",
        "#         transforms.ToTensor(),\n",
        "#         transforms.Normalize([0.485, 0.456, 0.406], [0.229, 0.224, 0.225])\n",
        "#     ]),\n",
        "# }\n",
        "\n",
        "data_dir = './photo_crop/'\n",
        "label_dir = './labels/'\n",
        "image_datasets = {x: CommendDataset(root_dir = os.path.join(data_dir, x),label_dir = os.path.join(label_dir,x)) for x in ['train', 'val']}\n",
        "# dataloaders = {x: torch.utils.data.DataLoader(image_datasets[x], batch_size=4,\n",
        "#                                              shuffle=True, num_workers=4)\n",
        "#               for x in ['train', 'val']}\n",
        "dataloaders = {x: torch.utils.data.DataLoader(image_datasets[x], batch_size=4,\n",
        "                                             shuffle=True)\n",
        "              for x in ['train', 'val']}\n",
        "dataset_sizes = {x: len(image_datasets[x]) for x in ['train', 'val']}\n",
        "device = torch.device(\"cuda:0\" if torch.cuda.is_available() else \"cpu\")"
      ]
    },
    {
      "cell_type": "code",
      "execution_count": 16,
      "metadata": {
        "tags": []
      },
      "outputs": [
        {
          "output_type": "stream",
          "name": "stdout",
          "text": "tensor([  0, 175, 190, 148])\ntensor([175, 179, 121, 187])\ntensor([166, 199, 161, 185])\ntensor([  0, 172, 166, 146])\ntensor([  0, 176, 161,   0])\ntensor([156, 175, 149,   0])\ntensor([  0, 191, 163, 193])\ntensor([170, 149, 166, 212])\ntensor([172,   0, 143, 149])\ntensor([152, 110, 138, 165])\ntensor([203, 182, 194, 197])\ntensor([189, 152, 132, 197])\ntensor([156, 164, 125, 174])\ntensor([152, 205, 186, 159])\ntensor([132, 198, 159, 186])\ntensor([195, 154,   0, 136])\ntensor([172, 185,   0, 176])\ntensor([176, 190, 192, 163])\ntensor([164, 194, 164, 145])\ntensor([  0, 119, 138, 205])\ntensor([201, 185, 173, 186])\ntensor([157, 201, 162, 145])\ntensor([  0, 179, 165, 133])\ntensor([152,   0, 153, 194])\ntensor([158, 159, 168, 164])\ntensor([189, 137, 184, 148])\ntensor([166, 186, 198, 145])\ntensor([114, 149, 147, 104])\ntensor([181,   0, 161, 150])\ntensor([133, 133, 133, 120])\ntensor([191, 158, 150, 136])\ntensor([182, 177, 150, 175])\ntensor([  0,   0, 152, 190])\ntensor([170, 167, 183, 187])\ntensor([165, 178, 140, 172])\ntensor([138, 172, 158, 186])\ntensor([204, 186, 185, 166])\ntensor([  0, 175, 173, 169])\ntensor([182, 154,   0, 128])\ntensor([154, 143,   0, 152])\ntensor([211, 166, 128, 134])\ntensor([158, 182, 170, 172])\ntensor([199, 142, 140, 159])\ntensor([193, 157, 208, 171])\ntensor([  0, 171, 207, 162])\ntensor([165, 182, 187, 183])\ntensor([172, 152, 171, 168])\ntensor([122, 139, 169, 203])\ntensor([133,  97, 151, 181])\ntensor([168, 155, 137, 153])\ntensor([  0, 146, 169, 149])\ntensor([  0, 198, 164, 154])\ntensor([149, 197, 181, 148])\ntensor([178, 201, 192, 208])\ntensor([153, 174,   0, 168])\ntensor([135, 193, 126, 144])\ntensor([198,   0, 205, 161])\ntensor([176, 163, 192, 161])\ntensor([205, 154, 186, 197])\ntensor([127, 216, 205, 185])\ntensor([162,   0, 146, 145])\ntensor([178, 166, 146, 161])\ntensor([164, 146, 151, 153])\ntensor([164, 149, 163,   0])\ntensor([  0, 194, 208, 124])\ntensor([181, 184, 176, 198])\ntensor([181, 148, 151, 181])\ntensor([201,   0, 139, 172])\ntensor([140,   0, 166, 133])\ntensor([157, 166, 152,   0])\ntensor([208, 192, 137, 178])\ntensor([139, 201, 185, 148])\ntensor([187,   0, 216, 158])\ntensor([114, 160, 215, 181])\ntensor([188, 161,   0,   0])\ntensor([170, 163, 184, 160])\ntensor([  0, 206, 158, 161])\ntensor([151, 139, 193, 190])\ntensor([165, 175, 154, 148])\ntensor([170, 128, 240, 120])\ntensor([167, 176, 138, 153])\ntensor([175, 241, 210, 157])\ntensor([179, 141, 153, 131])\ntensor([183, 166, 183, 200])\ntensor([170, 198, 159, 192])\ntensor([146, 165,   0, 163])\ntensor([215, 191, 142, 161])\ntensor([153, 172, 123, 153])\ntensor([162,   0, 148,   0])\ntensor([107, 165, 181, 198])\ntensor([201, 118, 161, 162])\ntensor([208, 180, 130, 186])\ntensor([  0, 186, 133,   0])\ntensor([124, 143, 156, 185])\ntensor([171, 160, 148,   0])\ntensor([160, 152, 134, 158])\ntensor([153, 149, 156, 150])\ntensor([127, 157, 171, 155])\ntensor([156, 212,   0, 122])\ntensor([180, 217,   0, 134])\ntensor([176, 159,   0, 205])\ntensor([152, 200,   0, 163])\ntensor([155, 134, 194, 138])\ntensor([201, 141, 166, 129])\ntensor([165, 139,   0, 141])\ntensor([199, 177, 200,   0])\ntensor([140, 193, 159, 134])\ntensor([156, 159,   0,   0])\ntensor([101, 152, 206, 209])\ntensor([157, 131, 214, 184])\ntensor([208, 157,   0, 188])\ntensor([152, 161, 197, 163])\ntensor([165,   0, 163, 167])\ntensor([137, 171, 200, 133])\ntensor([160, 165, 176, 122])\ntensor([146, 165,   0, 154])\ntensor([144, 205, 144,   0])\ntensor([175,   0,   0, 140])\ntensor([175, 208, 178, 206])\ntensor([191, 178, 149, 140])\ntensor([131, 168, 146, 166])\ntensor([155, 168, 179, 126])\ntensor([148, 152, 134, 151])\ntensor([141, 162, 183, 183])\ntensor([188, 176, 143, 200])\ntensor([131, 162, 113, 182])\ntensor([180,   0,   0, 183])\ntensor([190,   0, 173, 164])\ntensor([161, 168,   0, 152])\ntensor([177, 116, 138, 124])\ntensor([149,   0, 129, 178])\ntensor([182, 191, 159, 139])\ntensor([  0, 172, 145, 157])\ntensor([202, 173, 154, 136])\ntensor([141, 116, 146, 217])\ntensor([176, 214, 146, 151])\ntensor([184, 207, 144, 179])\ntensor([149, 129,   0,   0])\ntensor([179, 167, 151, 192])\ntensor([166,   0, 192, 163])\ntensor([167, 152, 132, 140])\ntensor([142, 153, 168, 133])\ntensor([172, 169, 156, 154])\ntensor([  0, 199, 228, 190])\ntensor([143, 161, 139, 178])\ntensor([159, 177, 189, 163])\ntensor([  0, 133,   0, 187])\ntensor([  0, 116,   0, 108])\ntensor([189, 147, 169, 205])\ntensor([  0,   0, 155, 137])\ntensor([142, 136, 156, 192])\ntensor([117, 218, 156, 199])\ntensor([178, 139, 204, 182])\ntensor([206, 218, 163, 119])\ntensor([199, 172, 198, 172])\ntensor([177, 174, 190, 186])\ntensor([178, 178, 215, 124])\ntensor([157, 176, 153, 150])\ntensor([163, 137, 266, 174])\ntensor([182, 214, 194, 166])\ntensor([170, 131, 178, 193])\ntensor([106, 176, 129, 148])\ntensor([108, 128, 147, 157])\ntensor([162,   0, 127, 158])\ntensor([187, 137, 198, 120])\ntensor([181, 167, 148, 207])\ntensor([123, 153, 157, 183])\ntensor([174, 176, 192,   0])\ntensor([201, 127, 135, 207])\ntensor([193,   0, 153, 142])\ntensor([177, 149, 179,   0])\ntensor([198, 138, 161, 170])\ntensor([180,   0, 188, 172])\ntensor([113, 136, 164, 180])\ntensor([156, 112,   0, 134])\ntensor([  0, 106, 167, 146])\ntensor([148, 174, 195, 219])\ntensor([127,   0, 191,   0])\ntensor([173, 139, 251, 208])\ntensor([182, 225, 202, 149])\ntensor([  0, 159, 167, 193])\ntensor([160, 174, 164, 168])\ntensor([174, 132, 125, 169])\ntensor([143, 175, 143, 156])\ntensor([159, 153, 162, 174])\ntensor([169, 147, 172,   0])\ntensor([151, 113, 173,  91])\ntensor([165, 165, 177, 240])\ntensor([202,   0, 179, 156])\ntensor([143, 136,   0, 203])\ntensor([185, 168, 215, 169])\ntensor([134, 166,   0, 148])\ntensor([182, 172, 195, 162])\ntensor([154, 155, 159, 180])\ntensor([190,   0, 209, 164])\ntensor([133, 153, 118, 179])\ntensor([235, 199, 151, 155])\ntensor([161, 162,   0,   0])\ntensor([173, 152, 186, 193])\ntensor([170, 176,   0, 193])\ntensor([181, 158,   0, 192])\ntensor([182, 127, 148, 139])\ntensor([185, 146,   0, 154])\ntensor([145, 132, 130,   0])\ntensor([  0,   0,  91, 161])\ntensor([174, 182, 164, 120])\ntensor([146, 178, 175, 213])\ntensor([  0, 198, 164, 194])\ntensor([155, 157, 179, 158])\ntensor([  0, 102, 142, 193])\ntensor([144, 195, 204, 185])\ntensor([136,   0, 185, 133])\ntensor([150, 206, 202, 157])\ntensor([  0, 113, 177, 176])\ntensor([180, 147, 176, 169])\ntensor([202, 186, 184, 143])\ntensor([208, 165, 106, 174])\ntensor([147, 185, 145, 165])\ntensor([129, 157, 241, 137])\ntensor([148, 138, 181, 191])\ntensor([149, 161, 176, 138])\ntensor([183,   0, 195, 188])\ntensor([188, 149, 150, 130])\ntensor([209, 175, 194,  20])\ntensor([194, 177, 144, 197])\ntensor([164,   0, 135, 164])\ntensor([  0, 173, 174, 177])\ntensor([170, 129, 170,   0])\ntensor([179,   0, 203, 171])\ntensor([ 76, 165, 191, 159])\ntensor([195, 164,   0, 158])\ntensor([115, 184, 133, 171])\ntensor([158, 179, 138, 157])\ntensor([  0,   0,   0, 175])\ntensor([130, 231, 178, 149])\ntensor([  0, 201, 168, 174])\ntensor([  0,   0, 117, 200])\ntensor([156,   0, 164, 200])\ntensor([  0, 164, 134, 185])\ntensor([169, 185, 192, 199])\ntensor([166, 197, 191, 166])\ntensor([192, 158, 181, 160])\ntensor([194,   0, 179, 158])\ntensor([174, 226, 131, 155])\ntensor([144, 149, 197, 200])\ntensor([168, 200,  99, 173])\ntensor([  0, 154, 118, 185])\ntensor([153, 135, 137, 151])\ntensor([  0, 168,   0, 173])\ntensor([196,   0, 132, 180])\ntensor([138, 173, 157,   0])\ntensor([142, 133, 167, 145])\ntensor([160, 186, 157, 170])\ntensor([184, 137, 201, 130])\ntensor([201,   0, 162, 175])\ntensor([167, 170, 197, 145])\ntensor([132, 193, 124, 158])\ntensor([198, 203,   0, 130])\ntensor([158, 186, 162, 127])\ntensor([154, 140,   0, 145])\ntensor([193, 143, 159, 195])\ntensor([172, 147, 154, 195])\ntensor([180, 146, 159, 168])\ntensor([142, 178, 139, 191])\ntensor([176, 158, 171, 167])\ntensor([207, 168,   0, 159])\ntensor([179, 158, 156,   0])\ntensor([166, 158, 187, 142])\ntensor([149, 132, 150, 165])\ntensor([  0, 174,   0, 147])\ntensor([129, 182, 176, 165])\ntensor([150, 156, 165, 219])\ntensor([178, 138,   0, 178])\ntensor([161, 172, 165, 174])\ntensor([162,   0, 174, 194])\ntensor([170, 181, 179, 175])\ntensor([194, 153, 219, 161])\ntensor([179,   0, 183,   0])\ntensor([128, 147, 200, 156])\ntensor([168, 195, 139,   0])\ntensor([141, 166, 111, 152])\ntensor([  0, 137, 181, 139])\ntensor([156, 184, 166, 144])\ntensor([140, 179,   0, 168])\ntensor([234, 174, 135,   0])\ntensor([  0,   0, 161, 163])\ntensor([174,   0, 125, 189])\ntensor([155,  86, 161, 172])\ntensor([166,   0,   0, 184])\ntensor([124, 185, 154, 194])\ntensor([200, 140, 135, 178])\ntensor([180, 196, 145, 133])\ntensor([151, 111, 164, 169])\ntensor([121, 199, 130, 167])\ntensor([191, 150,   0, 163])\ntensor([155, 212, 199, 189])\ntensor([  0, 185, 134, 165])\ntensor([161, 134, 143, 134])\ntensor([133,   0, 186, 158])\ntensor([194, 228, 149, 215])\ntensor([  0, 198, 120, 146])\ntensor([159, 148, 163, 181])\ntensor([160, 205, 175,   0])\ntensor([162, 143, 174, 138])\ntensor([164,   0,   0, 192])\ntensor([130,   0, 145,   0])\ntensor([160, 199,   0, 160])\ntensor([140, 163, 228, 161])\ntensor([  0, 201,   0, 127])\ntensor([142, 146, 174, 143])\ntensor([223,   0, 144, 158])\ntensor([188, 177, 171, 147])\ntensor([183, 186, 152, 158])\ntensor([143, 185,   0, 121])\ntensor([203, 173, 184, 190])\ntensor([180, 169, 119, 133])\ntensor([160,   0, 188, 156])\ntensor([169,   0, 184, 157])\ntensor([169, 183, 224, 148])\ntensor([160, 176, 174, 186])\ntensor([203, 169, 190, 182])\ntensor([125,  97, 170, 183])\ntensor([134, 198, 179, 155])\ntensor([168, 178, 171, 189])\ntensor([173, 137, 158, 210])\ntensor([137, 152, 184, 180])\ntensor([159, 162, 244, 150])\ntensor([165, 183, 185, 148])\ntensor([189, 179, 136, 188])\ntensor([161, 123, 176, 185])\ntensor([158, 172, 158, 137])\ntensor([133, 179, 216, 178])\ntensor([203,   0, 140, 149])\ntensor([173, 173, 188, 150])\ntensor([  0, 195,   0, 178])\ntensor([  0,   0, 166, 170])\ntensor([168, 147, 176, 126])\ntensor([191, 191, 145, 205])\ntensor([  0, 203, 163, 190])\ntensor([197, 136, 116, 156])\ntensor([  0, 138, 193, 153])\ntensor([165, 172, 172,   0])\ntensor([ 78, 146, 158, 186])\ntensor([183, 188,   0, 171])\ntensor([172, 131, 202, 179])\ntensor([125, 195, 181, 160])\ntensor([172, 168, 183, 157])\ntensor([  0, 171,   0, 149])\ntensor([160, 188, 184, 170])\ntensor([198,   0,   0, 173])\ntensor([186, 154, 162, 128])\ntensor([164, 143, 195, 164])\ntensor([176, 145,   0, 177])\ntensor([172, 167, 170, 166])\ntensor([130, 136, 126, 148])\ntensor([124, 133, 158,   0])\ntensor([142, 160,   0,   0])\ntensor([156, 164, 159, 148])\ntensor([125, 143, 178, 162])\ntensor([  0, 142, 153, 124])\ntensor([186, 195, 126, 166])\ntensor([150, 150, 144, 173])\ntensor([  0, 142, 192, 151])\ntensor([183, 169, 212, 184])\ntensor([185, 179, 179, 151])\ntensor([  0, 196, 150, 128])\ntensor([178, 150, 196, 194])\ntensor([172, 178, 155, 162])\ntensor([195, 180, 191, 163])\ntensor([200, 187, 134, 149])\ntensor([147, 176,   0, 221])\ntensor([112, 219, 142, 172])\ntensor([143, 212, 154, 193])\ntensor([144, 208, 143,   0])\ntensor([133, 152, 138, 136])\ntensor([168, 130, 131, 169])\ntensor([171, 190, 229, 184])\ntensor([127, 188, 197, 139])\ntensor([148, 182, 165, 190])\ntensor([140,   0, 155, 203])\ntensor([130,   0, 102, 219])\ntensor([174, 122, 144, 165])\ntensor([  0, 162,   0, 162])\ntensor([115, 138,   0, 153])\ntensor([123, 127, 130, 156])\ntensor([166, 152, 100, 180])\ntensor([  0, 162, 160, 164])\ntensor([169,  99, 238, 172])\ntensor([152, 156, 183, 151])\ntensor([225, 214, 167,   0])\ntensor([181, 169, 180, 140])\ntensor([220, 184, 200, 160])\ntensor([  0, 184, 167, 184])\ntensor([125, 180, 187, 142])\ntensor([136, 139, 149,   0])\ntensor([144, 168,   0, 160])\ntensor([168, 186, 191, 142])\ntensor([  0,   0, 129, 217])\ntensor([  0, 127, 160, 191])\ntensor([150, 217, 180, 192])\ntensor([141, 183, 165, 142])\ntensor([154,   0, 174, 219])\ntensor([111,   0,   0,   0])\ntensor([152, 198, 146,   0])\ntensor([  0, 163, 149, 164])\ntensor([170, 167, 210, 148])\ntensor([169, 141, 190,   0])\ntensor([  0,   0, 148,   0])\ntensor([196, 154, 203, 123])\ntensor([169, 175, 208, 203])\ntensor([177, 153, 186, 168])\ntensor([167, 159, 128, 196])\ntensor([133, 165, 190, 167])\ntensor([147, 184, 130,   0])\ntensor([191, 189, 144, 109])\ntensor([193, 169, 145, 178])\ntensor([186, 169, 183, 148])\ntensor([197, 231, 130, 167])\ntensor([183, 171, 215, 215])\ntensor([177, 168, 128, 191])\ntensor([187, 168, 154, 168])\ntensor([176, 121,   0, 168])\ntensor([178, 163, 195, 197])\ntensor([154, 149, 160, 161])\ntensor([157, 164, 197,   0])\ntensor([213, 168, 175, 153])\ntensor([153, 163,   0, 198])\ntensor([  0, 173, 160, 130])\ntensor([177,   0, 153, 159])\ntensor([203,   0, 177,   0])\ntensor([160, 171, 163, 146])\ntensor([168, 131, 185, 184])\ntensor([168, 165,   0, 175])\ntensor([199, 152,   0, 161])\ntensor([  0, 180, 141, 197])\ntensor([  0, 150, 141, 139])\ntensor([174, 128, 146, 136])\ntensor([131, 143, 198, 153])\ntensor([157, 146, 177, 137])\ntensor([194, 207, 168, 181])\ntensor([  0, 175, 187, 182])\ntensor([173, 208, 225, 181])\ntensor([139, 137, 148, 235])\ntensor([123, 183, 168, 151])\ntensor([199, 182,   0, 179])\ntensor([158, 183, 133, 164])\ntensor([186, 203, 158, 140])\ntensor([185, 176, 155, 176])\ntensor([154, 134, 169, 172])\ntensor([199, 145, 200, 150])\ntensor([168,   0, 172, 169])\ntensor([170, 202, 188, 153])\ntensor([175, 136, 189,   0])\ntensor([148, 165, 163, 172])\ntensor([156, 123, 153, 109])\ntensor([150, 140, 135,   0])\ntensor([129, 167, 103,   0])\ntensor([141, 158, 151, 163])\ntensor([156, 170, 106, 147])\ntensor([191, 149, 165, 181])\ntensor([136, 194, 205, 169])\ntensor([176, 171, 160,   0])\ntensor([  0, 113,   0, 151])\ntensor([180, 188, 168, 150])\ntensor([  0, 108, 164,   0])\ntensor([159, 143, 154, 184])\ntensor([187, 164, 149, 176])\ntensor([158, 185, 146, 181])\ntensor([124, 176, 188, 130])\ntensor([131, 151, 149,   0])\ntensor([158, 147, 192, 218])\ntensor([  0, 200, 174, 178])\ntensor([179,   0, 208, 147])\ntensor([168,   0, 197, 144])\ntensor([207, 185, 185,   0])\ntensor([104, 163, 148, 179])\ntensor([168,   0, 189, 148])\ntensor([180, 140, 171, 178])\ntensor([153, 134, 130,  88])\ntensor([167, 122, 138,   0])\ntensor([134, 209, 156, 178])\ntensor([202, 161, 180, 168])\ntensor([162, 184, 200, 171])\ntensor([191, 115, 152, 201])\ntensor([135, 144, 143, 148])\ntensor([189, 186, 118, 150])\ntensor([184, 170, 133, 167])\ntensor([  0, 163, 135, 157])\ntensor([162, 153,   0, 183])\ntensor([142, 150, 156, 161])\ntensor([158, 150, 173,   0])\ntensor([169, 129, 197,   0])\ntensor([139, 176, 148, 152])\ntensor([130, 193, 173, 167])\ntensor([169, 155, 180, 188])\ntensor([  0, 158, 197, 172])\ntensor([164, 179, 169, 181])\ntensor([145, 183, 124, 174])\ntensor([119, 176, 182, 195])\ntensor([197, 131, 187])\n"
        }
      ],
      "source": [
        "for i,j in dataloaders['train']:\n",
        "    print(j)"
      ]
    },
    {
      "cell_type": "markdown",
      "metadata": {},
      "source": [
        "Visualize a few images\n^^^^^^^^^^^^^^^^^^^^^^\nLet's visualize a few training images so as to understand the data\naugmentations.\n\n"
      ]
    },
    {
      "cell_type": "code",
      "execution_count": 11,
      "metadata": {
        "collapsed": false
      },
      "outputs": [],
      "source": [
        "# def imshow(inp, title=None):\n",
        "#     \"\"\"Imshow for Tensor.\"\"\"\n",
        "#     inp = inp.numpy()\n",
        "#     plt.imshow(inp)\n",
        "#     if title is not None:\n",
        "#         plt.title(title)\n",
        "#     plt.pause(0.001)  # pause a bit so that plots are updated\n",
        "\n",
        "\n",
        "# # Get a batch of training data\n",
        "# inputs, classes = next(iter(dataloaders['train']))\n",
        "\n",
        "# # Make a grid from batch\n",
        "# out = torchvision.utils.make_grid(inputs)\n",
        "\n",
        "# imshow(out, title=[class_names[x] for x in classes])"
      ]
    },
    {
      "cell_type": "markdown",
      "metadata": {},
      "source": [
        "Training the model\n------------------\n\nNow, let's write a general function to train a model. Here, we will\nillustrate:\n\n-  Scheduling the learning rate\n-  Saving the best model\n\nIn the following, parameter ``scheduler`` is an LR scheduler object from\n``torch.optim.lr_scheduler``.\n\n"
      ]
    },
    {
      "cell_type": "code",
      "execution_count": 7,
      "metadata": {
        "collapsed": false
      },
      "outputs": [],
      "source": [
        "def train_model(model, criterion, optimizer, scheduler, num_epochs=25):\n",
        "    since = time.time()\n",
        "\n",
        "    best_model_wts = copy.deepcopy(model.state_dict())\n",
        "    best_acc = 0.0\n",
        "\n",
        "    for epoch in range(num_epochs):\n",
        "        print('Epoch {}/{}'.format(epoch, num_epochs - 1))\n",
        "        print('-' * 10)\n",
        "\n",
        "        # Each epoch has a training and validation phase\n",
        "        for phase in ['train', 'val']:\n",
        "            if phase == 'train':\n",
        "                model.train()  # Set model to training mode\n",
        "            else:\n",
        "                model.eval()   # Set model to evaluate mode\n",
        "\n",
        "            running_loss = 0.0\n",
        "            running_corrects = 0\n",
        "\n",
        "            # Iterate over data.\n",
        "            for inputs, labels in dataloaders[phase]:\n",
        "                \n",
        "                inputs = inputs.to(device)\n",
        "                labels = labels.to(device)\n",
        "\n",
        "                # zero the parameter gradients\n",
        "                optimizer.zero_grad()\n",
        "\n",
        "                # forward\n",
        "                # track history if only in train\n",
        "                with torch.set_grad_enabled(phase == 'train'):\n",
        "                    outputs = model(inputs)\n",
        "                    _, preds = torch.max(outputs, 1)\n",
        "                    loss = criterion(outputs, labels)\n",
        "\n",
        "                    # backward + optimize only if in training phase\n",
        "                    if phase == 'train':\n",
        "                        loss.backward()\n",
        "                        optimizer.step()\n",
        "\n",
        "                # statistics\n",
        "                running_loss += loss.item() * inputs.size(0)\n",
        "                running_corrects += torch.sum(preds == labels.data)\n",
        "            if phase == 'train':\n",
        "                scheduler.step()\n",
        "\n",
        "            epoch_loss = running_loss / dataset_sizes[phase]\n",
        "            epoch_acc = running_corrects.double() / dataset_sizes[phase]\n",
        "\n",
        "            print('{} Loss: {:.4f} Acc: {:.4f}'.format(\n",
        "                phase, epoch_loss, epoch_acc))\n",
        "\n",
        "            # deep copy the model\n",
        "            if phase == 'val' and epoch_acc > best_acc:\n",
        "                best_acc = epoch_acc\n",
        "                best_model_wts = copy.deepcopy(model.state_dict())\n",
        "\n",
        "        print()\n",
        "\n",
        "    time_elapsed = time.time() - since\n",
        "    print('Training complete in {:.0f}m {:.0f}s'.format(\n",
        "        time_elapsed // 60, time_elapsed % 60))\n",
        "    print('Best val Acc: {:4f}'.format(best_acc))\n",
        "\n",
        "    # load best model weights\n",
        "    model.load_state_dict(best_model_wts)\n",
        "    return model"
      ]
    },
    {
      "cell_type": "markdown",
      "metadata": {},
      "source": [
        "Visualizing the model predictions\n^^^^^^^^^^^^^^^^^^^^^^^^^^^^^^^^^\n\nGeneric function to display predictions for a few images\n\n\n"
      ]
    },
    {
      "cell_type": "code",
      "execution_count": 8,
      "metadata": {
        "collapsed": false
      },
      "outputs": [],
      "source": [
        "def visualize_model(model, num_images=6):\n    was_training = model.training\n    model.eval()\n    images_so_far = 0\n    fig = plt.figure()\n\n    with torch.no_grad():\n        for i, (inputs, labels) in enumerate(dataloaders['val']):\n            inputs = inputs.to(device)\n            labels = labels.to(device)\n\n            outputs = model(inputs)\n            _, preds = torch.max(outputs, 1)\n\n            for j in range(inputs.size()[0]):\n                images_so_far += 1\n                ax = plt.subplot(num_images//2, 2, images_so_far)\n                ax.axis('off')\n                ax.set_title('predicted: {}'.format(class_names[preds[j]]))\n                imshow(inputs.cpu().data[j])\n\n                if images_so_far == num_images:\n                    model.train(mode=was_training)\n                    return\n        model.train(mode=was_training)"
      ]
    },
    {
      "cell_type": "markdown",
      "metadata": {},
      "source": [
        "Finetuning the convnet\n----------------------\n\nLoad a pretrained model and reset final fully connected layer.\n\n\n"
      ]
    },
    {
      "cell_type": "code",
      "execution_count": 8,
      "metadata": {
        "collapsed": false,
        "tags": []
      },
      "outputs": [
        {
          "output_type": "stream",
          "name": "stderr",
          "text": "Downloading: \"https://download.pytorch.org/models/resnet18-5c106cde.pth\" to C:\\Users\\kmd1995/.cache\\torch\\checkpoints\\resnet18-5c106cde.pth\n100.0%\n"
        }
      ],
      "source": [
        "model_ft = models.resnet18(pretrained=True)\n",
        "num_ftrs = model_ft.fc.in_features\n",
        "# Here the size of each output sample is set to 2.\n",
        "# Alternatively, it can be generalized to nn.Linear(num_ftrs, len(class_names)).\n",
        "model_ft.fc = nn.Linear(num_ftrs,1)\n",
        "\n",
        "model_ft = model_ft.to(device)\n",
        "\n",
        "criterion = nn.MSELoss()\n",
        "\n",
        "# Observe that all parameters are being optimized\n",
        "optimizer_ft = optim.SGD(model_ft.parameters(), lr=0.001, momentum=0.9)\n",
        "\n",
        "# Decay LR by a factor of 0.1 every 7 epochs\n",
        "exp_lr_scheduler = lr_scheduler.StepLR(optimizer_ft, step_size=7, gamma=0.1)"
      ]
    },
    {
      "cell_type": "markdown",
      "metadata": {},
      "source": [
        "Train and evaluate\n^^^^^^^^^^^^^^^^^^\n\nIt should take around 15-25 min on CPU. On GPU though, it takes less than a\nminute.\n\n\n"
      ]
    },
    {
      "cell_type": "code",
      "execution_count": 9,
      "metadata": {
        "collapsed": false,
        "tags": []
      },
      "outputs": [
        {
          "output_type": "stream",
          "name": "stdout",
          "text": "Epoch 0/0\n----------\n"
        }
      ],
      "source": [
        "model_ft = train_model(model_ft, criterion, optimizer_ft, exp_lr_scheduler,\n",
        "                       num_epochs=1)"
      ]
    },
    {
      "cell_type": "code",
      "execution_count": null,
      "metadata": {
        "collapsed": false
      },
      "outputs": [],
      "source": [
        "visualize_model(model_ft)"
      ]
    },
    {
      "cell_type": "markdown",
      "metadata": {},
      "source": [
        "ConvNet as fixed feature extractor\n----------------------------------\n\nHere, we need to freeze all the network except the final layer. We need\nto set ``requires_grad == False`` to freeze the parameters so that the\ngradients are not computed in ``backward()``.\n\nYou can read more about this in the documentation\n`here <https://pytorch.org/docs/notes/autograd.html#excluding-subgraphs-from-backward>`__.\n\n\n"
      ]
    },
    {
      "cell_type": "code",
      "execution_count": null,
      "metadata": {
        "collapsed": false
      },
      "outputs": [],
      "source": [
        "model_conv = torchvision.models.resnet18(pretrained=True)\nfor param in model_conv.parameters():\n    param.requires_grad = False\n\n# Parameters of newly constructed modules have requires_grad=True by default\nnum_ftrs = model_conv.fc.in_features\nmodel_conv.fc = nn.Linear(num_ftrs, 2)\n\nmodel_conv = model_conv.to(device)\n\ncriterion = nn.CrossEntropyLoss()\n\n# Observe that only parameters of final layer are being optimized as\n# opposed to before.\noptimizer_conv = optim.SGD(model_conv.fc.parameters(), lr=0.001, momentum=0.9)\n\n# Decay LR by a factor of 0.1 every 7 epochs\nexp_lr_scheduler = lr_scheduler.StepLR(optimizer_conv, step_size=7, gamma=0.1)"
      ]
    },
    {
      "cell_type": "markdown",
      "metadata": {},
      "source": [
        "Train and evaluate\n^^^^^^^^^^^^^^^^^^\n\nOn CPU this will take about half the time compared to previous scenario.\nThis is expected as gradients don't need to be computed for most of the\nnetwork. However, forward does need to be computed.\n\n\n"
      ]
    },
    {
      "cell_type": "code",
      "execution_count": null,
      "metadata": {
        "collapsed": false
      },
      "outputs": [],
      "source": [
        "model_conv = train_model(model_conv, criterion, optimizer_conv,\n                         exp_lr_scheduler, num_epochs=25)"
      ]
    },
    {
      "cell_type": "code",
      "execution_count": null,
      "metadata": {
        "collapsed": false
      },
      "outputs": [],
      "source": [
        "visualize_model(model_conv)\n\nplt.ioff()\nplt.show()"
      ]
    },
    {
      "cell_type": "markdown",
      "metadata": {},
      "source": [
        "Further Learning\n-----------------\n\nIf you would like to learn more about the applications of transfer learning,\ncheckout our `Quantized Transfer Learning for Computer Vision Tutorial <https://pytorch.org/tutorials/intermediate/quantized_transfer_learning_tutorial.html>`_.\n\n\n\n"
      ]
    }
  ],
  "metadata": {
    "kernelspec": {
      "display_name": "Python 3.8.3 64-bit",
      "language": "python",
      "name": "python_defaultSpec_1597437279638"
    },
    "language_info": {
      "codemirror_mode": {
        "name": "ipython",
        "version": 3
      },
      "file_extension": ".py",
      "mimetype": "text/x-python",
      "name": "python",
      "nbconvert_exporter": "python",
      "pygments_lexer": "ipython3",
      "version": "3.6.8"
    }
  },
  "nbformat": 4,
  "nbformat_minor": 0
}