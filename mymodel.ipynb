{
  "cells": [
    {
      "cell_type": "code",
      "execution_count": null,
      "metadata": {
        "collapsed": false
      },
      "outputs": [],
      "source": [
        "%matplotlib inline"
      ]
    },
    {
      "cell_type": "markdown",
      "metadata": {},
      "source": [
        "\nTransfer Learning for Computer Vision Tutorial\n==============================================\n**Author**: `Sasank Chilamkurthy <https://chsasank.github.io>`_\n\nIn this tutorial, you will learn how to train a convolutional neural network for\nimage classification using transfer learning. You can read more about the transfer\nlearning at `cs231n notes <https://cs231n.github.io/transfer-learning/>`__\n\nQuoting these notes,\n\n    In practice, very few people train an entire Convolutional Network\n    from scratch (with random initialization), because it is relatively\n    rare to have a dataset of sufficient size. Instead, it is common to\n    pretrain a ConvNet on a very large dataset (e.g. ImageNet, which\n    contains 1.2 million images with 1000 categories), and then use the\n    ConvNet either as an initialization or a fixed feature extractor for\n    the task of interest.\n\nThese two major transfer learning scenarios look as follows:\n\n-  **Finetuning the convnet**: Instead of random initializaion, we\n   initialize the network with a pretrained network, like the one that is\n   trained on imagenet 1000 dataset. Rest of the training looks as\n   usual.\n-  **ConvNet as fixed feature extractor**: Here, we will freeze the weights\n   for all of the network except that of the final fully connected\n   layer. This last fully connected layer is replaced with a new one\n   with random weights and only this layer is trained.\n\n\n"
      ]
    },
    {
      "cell_type": "code",
      "execution_count": 18,
      "metadata": {
        "collapsed": false
      },
      "outputs": [],
      "source": [
        "# License: BSD\n",
        "# Author: Sasank Chilamkurthy\n",
        "\n",
        "from __future__ import print_function, division\n",
        "\n",
        "import torch\n",
        "import torch.nn as nn\n",
        "import torch.optim as optim\n",
        "from torch.optim import lr_scheduler\n",
        "import numpy as np\n",
        "import torchvision\n",
        "from torchvision import datasets, models, transforms\n",
        "import matplotlib.pyplot as plt\n",
        "import time\n",
        "import os\n",
        "from skimage import io, transform\n",
        "\n",
        "import copy\n",
        "import os.path\n",
        "import glob\n",
        "from torch.utils.data import Dataset, DataLoader\n",
        "import pandas as pd\n",
        "plt.ion()   # interactive mode\n",
        "from matplotlib.pyplot import imshow\n"
      ]
    },
    {
      "cell_type": "markdown",
      "metadata": {},
      "source": [
        "Load Data\n---------\n\nWe will use torchvision and torch.utils.data packages for loading the\ndata.\n\nThe problem we're going to solve today is to train a model to classify\n**ants** and **bees**. We have about 120 training images each for ants and bees.\nThere are 75 validation images for each class. Usually, this is a very\nsmall dataset to generalize upon, if trained from scratch. Since we\nare using transfer learning, we should be able to generalize reasonably\nwell.\n\nThis dataset is a very small subset of imagenet.\n\n.. Note ::\n   Download the data from\n   `here <https://download.pytorch.org/tutorial/hymenoptera_data.zip>`_\n   and extract it to the current directory.\n\n"
      ]
    },
    {
      "cell_type": "code",
      "execution_count": 19,
      "metadata": {},
      "outputs": [],
      "source": [
        "# Writing a custermized dataset for my data\n",
        "class CommendDataset(Dataset):\n",
        "    \"\"\"Face Landmarks dataset.\"\"\"\n",
        "\n",
        "    def __init__(self, root_dir , label_dir  , phase, transform=None):\n",
        "        \"\"\"\n",
        "        Args:\n",
        "            csv_file (string): Path to the csv file with annotations.\n",
        "            root_dir (string): Directory with all the images.\n",
        "            transform (callable, optional): Optional transform to be applied\n",
        "                on a sample.\n",
        "        \"\"\"\n",
        "        self.root_dir = root_dir\n",
        "        self.transform = transform\n",
        "        self.num_image = glob.glob(os.path.join(root_dir,'*.png'))\n",
        "        self.df_label = pd.read_csv(os.path.join(label_dir, phase + '.csv'))\n",
        "        self.phase = phase\n",
        "\n",
        "    def __len__(self):\n",
        "        return len(self.num_image)\n",
        "\n",
        "    def __getitem__(self, idx):\n",
        "        lab = self.df_label.iloc[idx]['label']\n",
        "        # if self.phase == 'val':\n",
        "        #     idx = idx+1999\n",
        "        if torch.is_tensor(idx):\n",
        "            idx = idx.tolist()\n",
        "\n",
        "        img_name = os.path.join(self.root_dir,\n",
        "                                str(idx)+'.png')\n",
        "        image = io.imread(img_name).transpose((2, 0, 1))\n",
        "\n",
        "        if self.transform:\n",
        "            image = self.transform(image)\n",
        "        \n",
        "        return image,lab"
      ]
    },
    {
      "cell_type": "code",
      "execution_count": 20,
      "metadata": {
        "collapsed": false
      },
      "outputs": [],
      "source": [
        "# Data augmentation and normalization for training\n",
        "# Just normalization for validation\n",
        "# data_transforms = {\n",
        "#     'train': transforms.Compose([\n",
        "#         transforms.RandomResizedCrop(224),\n",
        "#         transforms.RandomHorizontalFlip(),\n",
        "#         transforms.ToTensor(),\n",
        "#         transforms.Normalize([0.485, 0.456, 0.406], [0.229, 0.224, 0.225])\n",
        "#     ]),\n",
        "#     'val': transforms.Compose([\n",
        "#         transforms.Resize(256),\n",
        "#         transforms.CenterCrop(224),\n",
        "#         transforms.ToTensor(),\n",
        "#         transforms.Normalize([0.485, 0.456, 0.406], [0.229, 0.224, 0.225])\n",
        "#     ]),\n",
        "# }\n",
        "\n",
        "data_dir = './layer13/'\n",
        "label_dir = './layer13/'\n",
        "image_datasets = {x: CommendDataset(root_dir = os.path.join(data_dir, x),label_dir =label_dir ,phase = x) for x in ['train', 'val']}\n",
        "# dataloaders = {x: torch.utils.data.DataLoader(image_datasets[x], batch_size=4,\n",
        "#                                              shuffle=True, num_workers=4)\n",
        "#               for x in ['train', 'val']}\n",
        "dataloaders = {x: torch.utils.data.DataLoader(image_datasets[x], batch_size=4,\n",
        "                                             shuffle=True)\n",
        "              for x in ['train', 'val']}\n",
        "dataset_sizes = {x: len(image_datasets[x]) for x in ['train', 'val']}\n",
        "device = torch.device(\"cuda:0\" if torch.cuda.is_available() else \"cpu\")"
      ]
    },
    {
      "cell_type": "markdown",
      "metadata": {},
      "source": [
        "Visualize a few images\n^^^^^^^^^^^^^^^^^^^^^^\nLet's visualize a few training images so as to understand the data\naugmentations.\n\n"
      ]
    },
    {
      "cell_type": "code",
      "execution_count": 21,
      "metadata": {
        "collapsed": false
      },
      "outputs": [],
      "source": [
        "# def imshow(inp, title=None):\n",
        "#     \"\"\"Imshow for Tensor.\"\"\"\n",
        "#     inp = inp.numpy()\n",
        "#     plt.imshow(inp)\n",
        "#     if title is not None:\n",
        "#         plt.title(title)\n",
        "#     plt.pause(0.001)  # pause a bit so that plots are updated\n",
        "\n",
        "\n",
        "# # Get a batch of training data\n",
        "# inputs, classes = next(iter(dataloaders['train']))\n",
        "\n",
        "# # Make a grid from batch\n",
        "# out = torchvision.utils.make_grid(inputs)\n",
        "\n",
        "# imshow(out, title=[class_names[x] for x in classes])"
      ]
    },
    {
      "cell_type": "markdown",
      "metadata": {},
      "source": [
        "Training the model\n------------------\n\nNow, let's write a general function to train a model. Here, we will\nillustrate:\n\n-  Scheduling the learning rate\n-  Saving the best model\n\nIn the following, parameter ``scheduler`` is an LR scheduler object from\n``torch.optim.lr_scheduler``.\n\n"
      ]
    },
    {
      "cell_type": "code",
      "execution_count": 22,
      "metadata": {
        "collapsed": false
      },
      "outputs": [],
      "source": [
        "def train_model(model, criterion, optimizer, scheduler, num_epochs=25):\n",
        "    since = time.time()\n",
        "\n",
        "    best_model_wts = copy.deepcopy(model.state_dict())\n",
        "    best_acc = 9999999\n",
        "\n",
        "    for epoch in range(num_epochs):\n",
        "        print('Epoch {}/{}'.format(epoch, num_epochs - 1))\n",
        "        print('-' * 10)\n",
        "\n",
        "        # Each epoch has a training and validation phase\n",
        "        for phase in ['train', 'val']:\n",
        "            if phase == 'train':\n",
        "                model.train()  # Set model to training mode\n",
        "            else:\n",
        "                model.eval()   # Set model to evaluate mode\n",
        "\n",
        "            epoch_loss = 0\n",
        "            epoch_acc = 0\n",
        "            # Iterate over data.\n",
        "            for inputs, labels in dataloaders[phase]:\n",
        "                \n",
        "                inputs = inputs.to(device, dtype=torch.float32)\n",
        "                labels = labels.to(device, dtype=torch.float32)\n",
        "\n",
        "                # zero the parameter gradients\n",
        "                optimizer.zero_grad()\n",
        "\n",
        "                # forward\n",
        "                # track history if only in train\n",
        "                with torch.set_grad_enabled(phase == 'train'):\n",
        "                    outputs = model(inputs)\n",
        "                    _, preds = torch.max(outputs, 1)\n",
        "                    loss = criterion(outputs, labels)\n",
        "\n",
        "                    # backward + optimize only if in training phase\n",
        "                    if phase == 'train':\n",
        "                        loss.backward()\n",
        "                        optimizer.step()\n",
        "                    \n",
        "                epoch_loss += loss * inputs.size(0)\n",
        "                # statistics\n",
        "                # running_loss += loss.item() * inputs.size(0)\n",
        "                # running_corrects += torch.sum(preds == labels.data)\n",
        "            if phase == 'train':\n",
        "                scheduler.step()\n",
        "\n",
        "            epoch_loss = epoch_loss/dataset_sizes[phase]\n",
        "\n",
        "            epoch_acc = epoch_loss.sqrt()\n",
        "\n",
        "            print('{} MSE: {:.4f} RMSE: {:.4f}'.format(\n",
        "                phase, epoch_loss, epoch_acc))\n",
        "\n",
        "            # deep copy the model\n",
        "            if phase == 'val' and epoch_acc < best_acc:\n",
        "                best_acc = epoch_acc\n",
        "                best_model_wts = copy.deepcopy(model.state_dict())\n",
        "\n",
        "        print()\n",
        "\n",
        "    time_elapsed = time.time() - since\n",
        "    print('Training complete in {:.0f}m {:.0f}s'.format(\n",
        "        time_elapsed // 60, time_elapsed % 60))\n",
        "    print('Best val Acc: {:4f}'.format(best_acc))\n",
        "\n",
        "    # load best model weights\n",
        "    model.load_state_dict(best_model_wts)\n",
        "    return model\n"
      ]
    },
    {
      "cell_type": "markdown",
      "metadata": {},
      "source": [
        "Visualizing the model predictions\n^^^^^^^^^^^^^^^^^^^^^^^^^^^^^^^^^\n\nGeneric function to display predictions for a few images\n\n\n"
      ]
    },
    {
      "cell_type": "code",
      "execution_count": 23,
      "metadata": {
        "collapsed": false
      },
      "outputs": [],
      "source": [
        "def visualize_model(model, num_images=6):\n",
        "    was_training = model.training\n",
        "    model.eval()\n",
        "    images_so_far = 0\n",
        "    fig = plt.figure()\n",
        "\n",
        "    with torch.no_grad():\n",
        "        for i, (inputs, labels) in enumerate(dataloaders['val']):\n",
        "            inputs = inputs.to(device, dtype=torch.float32)\n",
        "            labels = labels.to(device, dtype=torch.float32)\n",
        "\n",
        "            outputs = model(inputs)\n",
        "            _, preds = torch.max(outputs, 1)\n",
        "\n",
        "            for j in range(inputs.size()[0]):\n",
        "                images_so_far += 1\n",
        "                ax = plt.subplot(num_images//2, 2, images_so_far)\n",
        "                ax.axis('off')\n",
        "                ax.set_title('predicted: {}'.format('name'))\n",
        "                imshow(inputs.cpu().data[j])\n",
        "\n",
        "                if images_so_far == num_images:\n",
        "                    model.train(mode=was_training)\n",
        "                    return\n",
        "        model.train(mode=was_training)"
      ]
    },
    {
      "cell_type": "markdown",
      "metadata": {},
      "source": [
        "Finetuning the convnet\n----------------------\n\nLoad a pretrained model and reset final fully connected layer.\n\n\n"
      ]
    },
    {
      "cell_type": "code",
      "execution_count": 28,
      "metadata": {
        "collapsed": false,
        "tags": []
      },
      "outputs": [],
      "source": [
        "model_ft = models.resnet18(pretrained=False)\n",
        "num_ftrs = model_ft.fc.in_features\n",
        "# Here the size of each output sample is set to 2.\n",
        "# Alternatively, it can be generalized to nn.Linear(num_ftrs, len(class_names)).\n",
        "model_ft.fc = nn.Linear(num_ftrs,1)\n",
        "\n",
        "model_ft = model_ft.to(device)\n",
        "\n",
        "criterion = nn.MSELoss()\n",
        "\n",
        "# Observe that all parameters are being optimized\n",
        "optimizer_ft = optim.SGD(model_ft.parameters(), lr=0.001, momentum=0.9)\n",
        "\n",
        "# Decay LR by a factor of 0.1 every 7 epochs\n",
        "exp_lr_scheduler = lr_scheduler.StepLR(optimizer_ft, step_size=7, gamma=0.1)"
      ]
    },
    {
      "cell_type": "code",
      "execution_count": 29,
      "metadata": {
        "collapsed": false,
        "tags": []
      },
      "outputs": [
        {
          "output_type": "stream",
          "name": "stdout",
          "text": "Epoch 0/49\n----------\ntrain MSE: 4294.1606 RMSE: 65.5298\nval MSE: 13530.6670 RMSE: 116.3214\n\nEpoch 1/49\n----------\ntrain MSE: 3786.8804 RMSE: 61.5376\nval MSE: 10190.9150 RMSE: 100.9501\n\nEpoch 2/49\n----------\ntrain MSE: 3418.6367 RMSE: 58.4691\nval MSE: 10822.0254 RMSE: 104.0290\n\nEpoch 3/49\n----------\ntrain MSE: 3158.3396 RMSE: 56.1991\nval MSE: 10534.3740 RMSE: 102.6371\n\nEpoch 4/49\n----------\ntrain MSE: 3014.6768 RMSE: 54.9061\nval MSE: 8826.9932 RMSE: 93.9521\n\nEpoch 5/49\n----------\ntrain MSE: 3042.2065 RMSE: 55.1562\nval MSE: 9083.5068 RMSE: 95.3074\n\nEpoch 6/49\n----------\ntrain MSE: 2921.9583 RMSE: 54.0551\nval MSE: 9607.1787 RMSE: 98.0162\n\nEpoch 7/49\n----------\ntrain MSE: 2773.1689 RMSE: 52.6609\nval MSE: 9765.6924 RMSE: 98.8215\n\nEpoch 8/49\n----------\ntrain MSE: 2727.2314 RMSE: 52.2229\nval MSE: 9591.6514 RMSE: 97.9370\n\nEpoch 9/49\n----------\ntrain MSE: 2774.8169 RMSE: 52.6765\nval MSE: 9441.6035 RMSE: 97.1679\n\nEpoch 10/49\n----------\ntrain MSE: 2714.6865 RMSE: 52.1027\nval MSE: 9277.4268 RMSE: 96.3194\n\nEpoch 11/49\n----------\ntrain MSE: 2776.2842 RMSE: 52.6905\nval MSE: 9789.2900 RMSE: 98.9408\n\nEpoch 12/49\n----------\ntrain MSE: 2799.3901 RMSE: 52.9093\nval MSE: 9582.7549 RMSE: 97.8915\n\nEpoch 13/49\n----------\ntrain MSE: 2714.6409 RMSE: 52.1022\nval MSE: 9547.7441 RMSE: 97.7126\n\nEpoch 14/49\n----------\ntrain MSE: 2714.0615 RMSE: 52.0967\nval MSE: 9402.9033 RMSE: 96.9686\n\nEpoch 15/49\n----------\ntrain MSE: 2742.9082 RMSE: 52.3728\nval MSE: 9942.0498 RMSE: 99.7098\n\nEpoch 16/49\n----------\ntrain MSE: 2752.5063 RMSE: 52.4643\nval MSE: 9751.4043 RMSE: 98.7492\n\nEpoch 17/49\n----------\ntrain MSE: 2727.5037 RMSE: 52.2255\nval MSE: 10019.3623 RMSE: 100.0968\n\nEpoch 18/49\n----------\ntrain MSE: 2800.3855 RMSE: 52.9187\nval MSE: 9687.5400 RMSE: 98.4253\n\nEpoch 19/49\n----------\ntrain MSE: 2739.2656 RMSE: 52.3380\nval MSE: 9446.4189 RMSE: 97.1927\n\nEpoch 20/49\n----------\ntrain MSE: 2728.4041 RMSE: 52.2341\nval MSE: 9569.0645 RMSE: 97.8216\n\nEpoch 21/49\n----------\ntrain MSE: 2718.0166 RMSE: 52.1346\nval MSE: 9639.4287 RMSE: 98.1806\n\nEpoch 22/49\n----------\ntrain MSE: 2686.9258 RMSE: 51.8356\nval MSE: 9719.4033 RMSE: 98.5870\n\nEpoch 23/49\n----------\ntrain MSE: 2764.2498 RMSE: 52.5761\nval MSE: 9529.2744 RMSE: 97.6180\n\nEpoch 24/49\n----------\ntrain MSE: 2626.5122 RMSE: 51.2495\nval MSE: 9799.2666 RMSE: 98.9912\n\nEpoch 25/49\n----------\ntrain MSE: 2774.4072 RMSE: 52.6726\nval MSE: 9623.4609 RMSE: 98.0992\n\nEpoch 26/49\n----------\ntrain MSE: 2738.4482 RMSE: 52.3302\nval MSE: 10367.2080 RMSE: 101.8195\n\nEpoch 27/49\n----------\ntrain MSE: 2722.2639 RMSE: 52.1753\nval MSE: 9546.0566 RMSE: 97.7039\n\nEpoch 28/49\n----------\ntrain MSE: 2759.0703 RMSE: 52.5269\nval MSE: 9827.1660 RMSE: 99.1321\n\nEpoch 29/49\n----------\ntrain MSE: 2768.1938 RMSE: 52.6136\nval MSE: 9492.2715 RMSE: 97.4283\n\nEpoch 30/49\n----------\ntrain MSE: 2780.3643 RMSE: 52.7292\nval MSE: 9622.6250 RMSE: 98.0950\n\nEpoch 31/49\n----------\ntrain MSE: 2771.1401 RMSE: 52.6416\nval MSE: 9418.8574 RMSE: 97.0508\n\nEpoch 32/49\n----------\ntrain MSE: 2687.6345 RMSE: 51.8424\nval MSE: 9446.4092 RMSE: 97.1926\n\nEpoch 33/49\n----------\ntrain MSE: 2759.0154 RMSE: 52.5263\nval MSE: 9355.0010 RMSE: 96.7213\n\nEpoch 34/49\n----------\ntrain MSE: 2794.8403 RMSE: 52.8662\nval MSE: 9606.5488 RMSE: 98.0130\n\nEpoch 35/49\n----------\ntrain MSE: 2722.1606 RMSE: 52.1743\nval MSE: 9849.2354 RMSE: 99.2433\n\nEpoch 36/49\n----------\ntrain MSE: 2708.7764 RMSE: 52.0459\nval MSE: 9577.7764 RMSE: 97.8661\n\nEpoch 37/49\n----------\ntrain MSE: 2736.2117 RMSE: 52.3088\nval MSE: 9716.0088 RMSE: 98.5698\n\nEpoch 38/49\n----------\ntrain MSE: 2723.3989 RMSE: 52.1862\nval MSE: 9622.8145 RMSE: 98.0959\n\nEpoch 39/49\n----------\ntrain MSE: 2693.9155 RMSE: 51.9029\nval MSE: 9584.4648 RMSE: 97.9003\n\nEpoch 40/49\n----------\ntrain MSE: 2736.3542 RMSE: 52.3102\nval MSE: 9632.6875 RMSE: 98.1463\n\nEpoch 41/49\n----------\ntrain MSE: 2741.7922 RMSE: 52.3621\nval MSE: 9638.7139 RMSE: 98.1769\n\nEpoch 42/49\n----------\ntrain MSE: 2754.8223 RMSE: 52.4864\nval MSE: 9508.3398 RMSE: 97.5107\n\nEpoch 43/49\n----------\ntrain MSE: 2694.9468 RMSE: 51.9129\nval MSE: 9442.8271 RMSE: 97.1742\n\nEpoch 44/49\n----------\ntrain MSE: 2638.8088 RMSE: 51.3693\nval MSE: 9795.5508 RMSE: 98.9725\n\nEpoch 45/49\n----------\ntrain MSE: 2764.6082 RMSE: 52.5795\nval MSE: 9751.9912 RMSE: 98.7522\n\nEpoch 46/49\n----------\ntrain MSE: 2716.7170 RMSE: 52.1221\nval MSE: 9459.2324 RMSE: 97.2586\n\nEpoch 47/49\n----------\ntrain MSE: 2749.4675 RMSE: 52.4354\nval MSE: 9801.0664 RMSE: 99.0003\n\nEpoch 48/49\n----------\ntrain MSE: 2694.1426 RMSE: 51.9051\nval MSE: 9776.5986 RMSE: 98.8767\n\nEpoch 49/49\n----------\ntrain MSE: 2685.9106 RMSE: 51.8258\nval MSE: 10009.4600 RMSE: 100.0473\n\nTraining complete in 14m 19s\nBest val Acc: 93.952080\n"
        }
      ],
      "source": [
        "model_ft = train_model(model_ft, criterion, optimizer_ft, exp_lr_scheduler,\n",
        "                       num_epochs=50)"
      ]
    },
    {
      "cell_type": "code",
      "execution_count": null,
      "metadata": {
        "collapsed": false
      },
      "outputs": [],
      "source": [
        "# visualize_model(model_ft)"
      ]
    },
    {
      "cell_type": "markdown",
      "metadata": {},
      "source": [
        "ConvNet as fixed feature extractor\n----------------------------------\n\nHere, we need to freeze all the network except the final layer. We need\nto set ``requires_grad == False`` to freeze the parameters so that the\ngradients are not computed in ``backward()``.\n\nYou can read more about this in the documentation\n`here <https://pytorch.org/docs/notes/autograd.html#excluding-subgraphs-from-backward>`__.\n\n\n"
      ]
    },
    {
      "cell_type": "code",
      "execution_count": null,
      "metadata": {
        "collapsed": false
      },
      "outputs": [],
      "source": [
        "model_conv = torchvision.models.resnet18(pretrained=True)\n",
        "for param in model_conv.parameters():\n",
        "    param.requires_grad = False\n",
        "\n",
        "# Parameters of newly constructed modules have requires_grad=True by default\n",
        "num_ftrs = model_conv.fc.in_features\n",
        "model_conv.fc = nn.Linear(num_ftrs, 1)\n",
        "\n",
        "model_conv = model_conv.to(device)\n",
        "\n",
        "criterion = nn.MSELoss()\n",
        "\n",
        "# Observe that only parameters of final layer are being optimized as\n",
        "# opposed to before.\n",
        "optimizer_conv = optim.SGD(model_conv.fc.parameters(), lr=0.001, momentum=0.9)\n",
        "\n",
        "# Decay LR by a factor of 0.1 every 7 epochs\n",
        "exp_lr_scheduler = lr_scheduler.StepLR(optimizer_conv, step_size=7, gamma=0.1)"
      ]
    },
    {
      "cell_type": "markdown",
      "metadata": {},
      "source": [
        "Train and evaluate\n^^^^^^^^^^^^^^^^^^\n\nOn CPU this will take about half the time compared to previous scenario.\nThis is expected as gradients don't need to be computed for most of the\nnetwork. However, forward does need to be computed.\n\n\n"
      ]
    },
    {
      "cell_type": "code",
      "execution_count": null,
      "metadata": {
        "collapsed": false,
        "tags": []
      },
      "outputs": [],
      "source": [
        "model_conv = train_model(model_conv, criterion, optimizer_conv,\n",
        "                         exp_lr_scheduler, num_epochs=50)"
      ]
    },
    {
      "cell_type": "code",
      "execution_count": null,
      "metadata": {
        "collapsed": false
      },
      "outputs": [],
      "source": [
        "visualize_model(model_conv)\n\nplt.ioff()\nplt.show()"
      ]
    },
    {
      "cell_type": "markdown",
      "metadata": {},
      "source": [
        "Further Learning\n-----------------\n\nIf you would like to learn more about the applications of transfer learning,\ncheckout our `Quantized Transfer Learning for Computer Vision Tutorial <https://pytorch.org/tutorials/intermediate/quantized_transfer_learning_tutorial.html>`_.\n\n\n\n"
      ]
    }
  ],
  "metadata": {
    "kernelspec": {
      "display_name": "Python 3.8.3 64-bit",
      "language": "python",
      "name": "python_defaultSpec_1597468652572"
    },
    "language_info": {
      "codemirror_mode": {
        "name": "ipython",
        "version": 3
      },
      "file_extension": ".py",
      "mimetype": "text/x-python",
      "name": "python",
      "nbconvert_exporter": "python",
      "pygments_lexer": "ipython3",
      "version": "3.8.3-final"
    }
  },
  "nbformat": 4,
  "nbformat_minor": 0
}