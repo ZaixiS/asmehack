{
 "metadata": {
  "language_info": {
   "codemirror_mode": {
    "name": "ipython",
    "version": 3
   },
   "file_extension": ".py",
   "mimetype": "text/x-python",
   "name": "python",
   "nbconvert_exporter": "python",
   "pygments_lexer": "ipython3",
   "version": "3.8.3-final"
  },
  "orig_nbformat": 2,
  "kernelspec": {
   "name": "python_defaultSpec_1597567434471",
   "display_name": "Python 3.8.3 64-bit"
  }
 },
 "nbformat": 4,
 "nbformat_minor": 2,
 "cells": [
  {
   "cell_type": "code",
   "execution_count": null,
   "metadata": {},
   "outputs": [],
   "source": [
    "from skimage import io\n",
    "import pandas as pd\n",
    "import numpy as np\n",
    "import os\n",
    "import random"
   ]
  },
  {
   "cell_type": "code",
   "execution_count": null,
   "metadata": {},
   "outputs": [],
   "source": [
    "def predict_category(image):\n",
    "    # receives (M,N,3) image and returns predicted category\n",
    "    print(np.shape(image),end='\\t')\n",
    "    return 1"
   ]
  },
  {
   "cell_type": "code",
   "execution_count": null,
   "metadata": {},
   "outputs": [],
   "source": [
    "def predict_pixel(image):\n",
    "    # receives (M,N,3) image and returns predicted pixel\n",
    "    print(np.shape(image),end='\\t')\n",
    "    return 1"
   ]
  },
  {
   "cell_type": "code",
   "execution_count": null,
   "metadata": {},
   "outputs": [],
   "source": [
    "def draw_layer(draw=100,folder='layers',home='problem2',resize=0.2,crop_x=60,crop_y=60,cooling_alpha=0.001):\n",
    "    # create directory\n",
    "    if not os.path.exists('./%s'%(folder)): os.mkdir('./%s'%(folder))\n",
    "    if not os.path.exists('./%s/draw'%(folder)): os.mkdir('./%s/draw'%(folder))\n",
    "\n",
    "    # read label\n",
    "    layer='L%04d'%(draw)\n",
    "    mpm_dir='./%s/MPM/Layer%03dto%03d/%s/'%(home,(draw-1)//50*50+1,(draw-1)//50*50+50,layer)\n",
    "    pixel=[]\n",
    "    for temp in range(len(os.listdir(mpm_dir))):\n",
    "        name='%sframe_%04d.bmp'%(mpm_dir,temp+1)\n",
    "        pixel.append(np.sum(io.imread(name)>150))\n",
    "    threshold=np.array([10,np.quantile(pixel,.25),np.quantile(pixel,.75)])\n",
    "    category=[np.sum(temp>threshold) for temp in pixel]\n",
    "\n",
    "    # read cmd\n",
    "    cmd=pd.read_csv('./%s/Command_Part1/XYPT_Part01_%s.csv'%(home,layer),header=None)\n",
    "    left=cmd[0].min()\n",
    "    right=cmd[0].max()\n",
    "    down=cmd[1].min()\n",
    "    up=cmd[1].max()\n",
    "    mag=1000\n",
    "    width=int((right-left)*mag*resize)+1\n",
    "    height=int((up-down)*mag*resize)+1\n",
    "    power=np.zeros([width,height])\n",
    "    speed=np.zeros([width,height])\n",
    "    temporal=np.zeros([width,height])\n",
    "\n",
    "    current_order=0\n",
    "    locations=[]\n",
    "    loc_x=[]\n",
    "    loc_y=[]\n",
    "    first_row=cmd[0:1]\n",
    "    history_x=[first_row[0][0]]*3\n",
    "    history_y=[first_row[1][0]]*3\n",
    "    speed_max=-10000\n",
    "    speed_min=10000\n",
    "    for line in cmd.iterrows():\n",
    "        raw_x=line[1][0]\n",
    "        raw_y=line[1][1]\n",
    "        history_x.pop()\n",
    "        history_x.insert(0,raw_x)\n",
    "        history_y.pop()\n",
    "        history_y.insert(0,raw_y)\n",
    "        # calculate speed\n",
    "        last_speed=((history_x[2]-history_x[0])*(history_x[2]-history_x[0])+(history_y[2]-history_y[0])*(history_y[2]-history_y[0]))**0.5/2e-5\n",
    "        if current_order>0:\n",
    "            speed[current_x,current_y]=last_speed\n",
    "            speed_max=max(last_speed,speed_max)\n",
    "            speed_min=min(last_speed,speed_min)\n",
    "        current_order+=1\n",
    "        current_x=int((raw_x-left)*mag*resize)\n",
    "        current_y=int((raw_y-down)*mag*resize)\n",
    "        power[current_x,current_y]=line[1][2]\n",
    "        temporal[current_x,current_y]=current_order\n",
    "        if line[1][3]==2:\n",
    "            locations.append([current_x,current_y])\n",
    "            loc_x.append(raw_x)\n",
    "            loc_y.append(raw_y)\n",
    "    power_min=np.min(power)\n",
    "    power_max=np.max(power)\n",
    "    \n",
    "    # generate photos\n",
    "    photo_id=0\n",
    "    for temp in locations:\n",
    "        if photo_id%100==0: print(photo_id,end='\\t')\n",
    "        center_x,center_y=temp\n",
    "        power_crop=np.zeros([crop_x,crop_y])\n",
    "        speed_crop=np.zeros([crop_x,crop_y])\n",
    "        temporal_crop=np.zeros([crop_x,crop_y])\n",
    "        for x in range(center_x-int(crop_x*0.5),center_x+int(crop_x*0.5)):\n",
    "            for y in range(center_y-int(crop_y*0.5),center_y+int(crop_y*0.5)):\n",
    "                # consider locations in the window with time stamp earlier than center\n",
    "                if x<0 or x>=width: continue\n",
    "                if y<0 or y>=height: continue\n",
    "                if temporal[x,y]==0 or temporal[x,y]>temporal[center_x,center_y]: continue\n",
    "                # power crop\n",
    "                original_power=(power[x,y]-power_min)/(power_max-power_min)\n",
    "                power_crop[x+int(crop_x*0.5)-center_x,y+int(crop_y*0.5)-center_y]=int(original_power*255)\n",
    "                # speed crop\n",
    "                original_speed=(speed[x,y]-speed_min)/(speed_max-speed_min)\n",
    "                speed_crop[x+int(crop_x*0.5)-center_x,y+int(crop_y*0.5)-center_y]=int(original_speed*255)\n",
    "                # temporal crop\n",
    "                elapsed_time=temporal[center_x,center_y]-temporal[x,y]\n",
    "                temporal_crop[x+int(crop_x*0.5)-center_x,y+int(crop_y*0.5)-center_y]=int(np.exp(-elapsed_time*cooling_alpha)*255)\n",
    "        rgb_image=np.stack((power_crop.astype(np.uint8),speed_crop.astype(np.uint8),temporal_crop.astype(np.uint8)),axis=-1)\n",
    "        io.imsave('./%s/draw/%d.png'%(folder,photo_id),rgb_image,check_contrast=False)\n",
    "        photo_id+=1\n",
    "\n",
    "    pixel_results=[]\n",
    "    category_results=[]\n",
    "    for photo in range(photo_id):\n",
    "        img=io.imread('./%s/draw/%d.png'%(folder,photo))\n",
    "        pixel_results.append(predict_pixel(img))\n",
    "        # predict category\n",
    "        # category_results.append(predict_category(img))\n",
    "    # use quantiles to predict category\n",
    "    threshold_results=np.array([10,np.quantile(pixel_results,.25),np.quantile(pixel_results,.75)])\n",
    "    category_results=[np.sum(temp>threshold_results) for temp in pixel_results]\n",
    "\n",
    "    pd.DataFrame({'x':loc_x,'y':loc_y,\n",
    "                  'pixel_label':pixel,'category_label':category,\n",
    "                  'pixel_predict':pixel_results,'category_predict':category_results}).to_csv('./%s/heatmap.csv'%(folder),index=0)"
   ]
  },
  {
   "cell_type": "code",
   "execution_count": null,
   "metadata": {
    "tags": [
     "outputPrepend"
    ]
   },
   "outputs": [],
   "source": [
    "draw_layer()"
   ]
  }
 ]
}