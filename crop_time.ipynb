{
 "metadata": {
  "language_info": {
   "codemirror_mode": {
    "name": "ipython",
    "version": 3
   },
   "file_extension": ".py",
   "mimetype": "text/x-python",
   "name": "python",
   "nbconvert_exporter": "python",
   "pygments_lexer": "ipython3",
   "version": "3.8.3-final"
  },
  "orig_nbformat": 2,
  "kernelspec": {
   "name": "python_defaultSpec_1597443602565",
   "display_name": "Python 3.8.3 64-bit"
  }
 },
 "nbformat": 4,
 "nbformat_minor": 2,
 "cells": [
  {
   "cell_type": "code",
   "execution_count": 20,
   "metadata": {},
   "outputs": [],
   "source": [
    "from skimage import io\n",
    "import pandas as pd\n",
    "import numpy as np\n",
    "import os\n",
    "# target csv\n",
    "target_name='CMD_Layer0013'\n",
    "if not os.path.exists('./%s'%(target_name)): os.mkdir('./%s'%(target_name))\n",
    "# resize factor [0,1]\n",
    "resize=1.0\n",
    "\n",
    "df=pd.read_csv('./Hackathon_3dBuild/BuildCommand/%s.csv'%(target_name),header=None)\n",
    "left=df[0].min()\n",
    "right=df[0].max()\n",
    "down=df[1].min()\n",
    "up=df[1].max()\n",
    "mag=1000\n",
    "width=int((right-left)*mag*resize)+1\n",
    "height=int((up-down)*mag*resize)+1\n",
    "power=np.zeros([width,height])\n",
    "speed=np.zeros([width,height])\n",
    "temporal=np.zeros([width,height])"
   ]
  },
  {
   "cell_type": "code",
   "execution_count": 21,
   "metadata": {},
   "outputs": [],
   "source": [
    "current_order=0\n",
    "locations=[]\n",
    "for line in df.iterrows():\n",
    "    current_order+=1\n",
    "    current_x=int((line[1][0]-left)*mag*resize)\n",
    "    current_y=int((line[1][1]-down)*mag*resize)\n",
    "    power[current_x,current_y]=line[1][2]\n",
    "    speed[current_x,current_y]=line[1][3]\n",
    "    temporal[current_x,current_y]=current_order\n",
    "    if line[1][4]==2: locations.append([current_x,current_y])\n",
    "power_min=np.min(power)\n",
    "power_max=np.max(power)\n",
    "speed_min=np.min(power)\n",
    "speed_max=np.max(power)\n",
    "crop_x=224\n",
    "crop_y=224\n",
    "cooling_factor=0\n",
    "clock_scale=0.001"
   ]
  },
  {
   "cell_type": "code",
   "execution_count": 33,
   "metadata": {
    "tags": []
   },
   "outputs": [
    {
     "output_type": "stream",
     "name": "stdout",
     "text": "photo: 1\n"
    }
   ],
   "source": [
    "photo_id=0\n",
    "for temp in locations:\n",
    "    photo_id+=1\n",
    "    print(photo_id,end='\\t')\n",
    "    center_x,center_y=temp\n",
    "    power_crop=np.zeros([crop_x,crop_y])\n",
    "    speed_crop=np.zeros([crop_x,crop_y])\n",
    "    temporal_crop=np.zeros([crop_x,crop_y])\n",
    "    for x in range(center_x-int(crop_x*0.5),center_x+int(crop_x*0.5)):\n",
    "        for y in range(center_y-int(crop_y*0.5),center_y+int(crop_y*0.5)):\n",
    "            # consider locations in the window with time stamp earlier than center\n",
    "            if x<0 or x>=width: continue\n",
    "            if y<0 or y>=height: continue\n",
    "            if temporal[x,y]==0 or temporal[x,y]>temporal[center_x,center_y]: continue\n",
    "            # power crop\n",
    "            elapsed_time=temporal[x,y]-temporal[center_x,center_y]\n",
    "            original_power=(power[x,y]-power_min)/(power_max-power_min)\n",
    "            cooled_power=original_power*np.exp(elapsed_time*cooling_factor)\n",
    "            power_crop[x+int(crop_x*0.5)-center_x,y+int(crop_y*0.5)-center_y]=int(cooled_power*255)\n",
    "            # speed crop\n",
    "            original_speed=(speed[x,y]-power_min)/(speed_max-speed_min)\n",
    "            speed_crop[x+int(crop_x*0.5)-center_x,y+int(crop_y*0.5)-center_y]=int(original_speed*255)\n",
    "            # temporal crop\n",
    "            temporal_crop[x+int(crop_x*0.5)-center_x,y+int(crop_y*0.5)-center_y]=max(255+int(elapsed_time*255*clock_scale),0)\n",
    "    io.imsave('./%s/%d.jpg'%(target_name,photo_id),\n",
    "              np.stack((power_crop.astype(np.uint8),\n",
    "                        speed_crop.astype(np.uint8),\n",
    "                        temporal_crop.astype(np.uint8)),\n",
    "                        axis=-1),\n",
    "              check_contrast=False)\n",
    "    # break"
   ]
  }
 ]
}