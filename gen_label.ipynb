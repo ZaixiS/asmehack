{
 "metadata": {
  "language_info": {
   "codemirror_mode": {
    "name": "ipython",
    "version": 3
   },
   "file_extension": ".py",
   "mimetype": "text/x-python",
   "name": "python",
   "nbconvert_exporter": "python",
   "pygments_lexer": "ipython3",
   "version": "3.8.3-final"
  },
  "orig_nbformat": 2,
  "kernelspec": {
   "name": "python_defaultSpec_1597436607564",
   "display_name": "Python 3.8.3 64-bit"
  }
 },
 "nbformat": 4,
 "nbformat_minor": 2,
 "cells": [
  {
   "cell_type": "code",
   "execution_count": 6,
   "metadata": {},
   "outputs": [],
   "source": [
    "from skimage import io\n",
    "import numpy as np\n",
    "import os\n",
    "import pandas as pd"
   ]
  },
  {
   "cell_type": "code",
   "execution_count": 13,
   "metadata": {},
   "outputs": [],
   "source": [
    "dir='./Hackathon_3dBuild/MPM_Layer0013/'\n",
    "images=[]\n",
    "labels=[]\n",
    "for temp in range(len(os.listdir(dir))):\n",
    "    name='%sframe%05d.bmp'%(dir,temp+1)\n",
    "    images.append('frame%05d'%(temp+1))\n",
    "    labels.append(np.sum(io.imread(name)>150))\n",
    "df=pd.DataFrame({'image':images,'label':labels})\n",
    "df.to_csv('MPM_Layer0013.csv',index=0)"
   ]
  }
 ]
}